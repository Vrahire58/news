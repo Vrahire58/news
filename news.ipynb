{
  "nbformat": 4,
  "nbformat_minor": 0,
  "metadata": {
    "colab": {
      "name": "news.ipynb",
      "provenance": [],
      "collapsed_sections": []
    },
    "kernelspec": {
      "name": "python3",
      "display_name": "Python 3"
    },
    "language_info": {
      "name": "python"
    }
  },
  "cells": [
    {
      "cell_type": "code",
      "source": [
        "import requests\n",
        "import json"
      ],
      "metadata": {
        "id": "M5ec7f3HmvY3"
      },
      "execution_count": 16,
      "outputs": []
    },
    {
      "cell_type": "code",
      "source": [
        "r = requests.get('https://newsapi.org/v2/top-headlines?country=in&apiKey=8bfb9f5bfd2a40f08cbf515d9992d3be')"
      ],
      "metadata": {
        "id": "7Uty1i6tm84t"
      },
      "execution_count": 17,
      "outputs": []
    },
    {
      "cell_type": "code",
      "source": [
        "r.content"
      ],
      "metadata": {
        "id": "KnUNxnYpoX4X"
      },
      "execution_count": null,
      "outputs": []
    },
    {
      "cell_type": "code",
      "source": [
        "data = json.loads(r.content)\n",
        "data"
      ],
      "metadata": {
        "id": "65wfC9teogSU"
      },
      "execution_count": null,
      "outputs": []
    },
    {
      "cell_type": "code",
      "source": [
        "data['articles'][0]"
      ],
      "metadata": {
        "id": "MpIEWd_8phNL"
      },
      "execution_count": null,
      "outputs": []
    },
    {
      "cell_type": "code",
      "source": [
        "data['articles'][0]['title']"
      ],
      "metadata": {
        "colab": {
          "base_uri": "https://localhost:8080/",
          "height": 35
        },
        "id": "CuAoyXNhqIh5",
        "outputId": "2afc509d-04cb-473e-88c7-099541822976"
      },
      "execution_count": 21,
      "outputs": [
        {
          "output_type": "execute_result",
          "data": {
            "application/vnd.google.colaboratory.intrinsic+json": {
              "type": "string"
            },
            "text/plain": [
              "'For Delhi, Weekend Curfew; Full Capacity Allowed For Buses, Metro - NDTV'"
            ]
          },
          "metadata": {},
          "execution_count": 21
        }
      ]
    },
    {
      "cell_type": "code",
      "source": [
        "data['articles'][0]['description']"
      ],
      "metadata": {
        "id": "Xq6UO1hpqW0w"
      },
      "execution_count": null,
      "outputs": []
    },
    {
      "cell_type": "code",
      "source": [
        "data['articles'][0]['url']"
      ],
      "metadata": {
        "id": "vlL_Tmzcq2C3"
      },
      "execution_count": null,
      "outputs": []
    },
    {
      "cell_type": "code",
      "source": [
        "data['articles'][0]['content']"
      ],
      "metadata": {
        "id": "AOz27dMwrI0e"
      },
      "execution_count": null,
      "outputs": []
    },
    {
      "cell_type": "code",
      "source": [
        "for i in range(10):\n",
        "  news = data['articles'][i]['title']\n",
        "  print(\"news\",i+1,\":\",news)"
      ],
      "metadata": {
        "colab": {
          "base_uri": "https://localhost:8080/"
        },
        "id": "8gAu1xZZr3LL",
        "outputId": "3fea0ec0-b1e0-4ceb-de31-58ea35717288"
      },
      "execution_count": 26,
      "outputs": [
        {
          "output_type": "stream",
          "name": "stdout",
          "text": [
            "news 1 : For Delhi, Weekend Curfew; Full Capacity Allowed For Buses, Metro - NDTV\n",
            "news 2 : Closing Bell: Nifty above 17,800, Sensex gains 672 pts led by power, oil & gas, banks - Moneycontrol.com\n",
            "news 3 : India vs South Africa 2nd Test Day 2 Live Score, Updates: Shardul Thakur Picks 3 In No Time, South Africa 102/4 At Lunch - NDTV Sports\n",
            "news 4 : Third Covid wave in Karnataka; Bengaluru is epicentre, says Health Minister - Mint\n",
            "news 5 : ‘Bulli Bai’ case: Bengaluru engineering student Vishal arrested by Mumbai police - The News Minute\n",
            "news 6 : Quadrantids Meteor Showers 2022: Timings, When And Where To Watch From India - Sentinelassam - The Sentinel Assam\n",
            "news 7 : Know why highly transmissible Omicron variant does not harm lungs - Zee News\n",
            "news 8 : The heat is on: Cheteshwar Pujara and Ajinkya Rahane living on borrowed time? - Times of India\n",
            "news 9 : France detects new COVID-19 variant IHU, more infectious than Omicron: All we know about it - Firstpost\n",
            "news 10 : Mukesh Ambani’s Jio plans its biggest bond in debt market return - Economic Times\n"
          ]
        }
      ]
    }
  ]
}